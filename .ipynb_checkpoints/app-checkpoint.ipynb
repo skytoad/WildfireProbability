{
 "cells": [
  {
   "cell_type": "code",
   "execution_count": 181,
   "id": "f2aea873",
   "metadata": {},
   "outputs": [],
   "source": [
    "import pandas as pd\n",
    "import numpy as np\n",
    "import matplotlib.pyplot as plt\n",
    "from sklearn import ensemble, model_selection\n",
    "%matplotlib inline"
   ]
  },
  {
   "cell_type": "code",
   "execution_count": 2,
   "id": "824431d5",
   "metadata": {},
   "outputs": [],
   "source": [
    "## Wildfire Prediction Using Machine Learning"
   ]
  },
  {
   "cell_type": "code",
   "execution_count": 3,
   "id": "da28fabc",
   "metadata": {},
   "outputs": [],
   "source": [
    "# A Python project created by Tyler Astle"
   ]
  },
  {
   "cell_type": "code",
   "execution_count": 153,
   "id": "b2d334b3",
   "metadata": {},
   "outputs": [],
   "source": [
    "df = pd.read_csv(\"data//wf_datatrimmed_8col.csv\", \n",
    "                 encoding=\"utf-8\", \n",
    "                 index_col=0, \n",
    "                 names=[\"YEAR\", \"CAUSE\", \"AREA\", \"LATITUDE\", \"LONGITUDE\", \"OWNER\", \"COUNTY\"],\n",
    "                 low_memory=False)"
   ]
  },
  {
   "cell_type": "code",
   "execution_count": 154,
   "id": "458b399a",
   "metadata": {},
   "outputs": [],
   "source": [
    "df['COUNTY'] = df['COUNTY'].str.upper()"
   ]
  },
  {
   "cell_type": "code",
   "execution_count": 155,
   "id": "2a172e30",
   "metadata": {},
   "outputs": [
    {
     "data": {
      "text/html": [
       "<div>\n",
       "<style scoped>\n",
       "    .dataframe tbody tr th:only-of-type {\n",
       "        vertical-align: middle;\n",
       "    }\n",
       "\n",
       "    .dataframe tbody tr th {\n",
       "        vertical-align: top;\n",
       "    }\n",
       "\n",
       "    .dataframe thead th {\n",
       "        text-align: right;\n",
       "    }\n",
       "</style>\n",
       "<table border=\"1\" class=\"dataframe\">\n",
       "  <thead>\n",
       "    <tr style=\"text-align: right;\">\n",
       "      <th></th>\n",
       "      <th>YEAR</th>\n",
       "      <th>CAUSE</th>\n",
       "      <th>AREA</th>\n",
       "      <th>LATITUDE</th>\n",
       "      <th>LONGITUDE</th>\n",
       "      <th>OWNER</th>\n",
       "      <th>COUNTY</th>\n",
       "    </tr>\n",
       "  </thead>\n",
       "  <tbody>\n",
       "    <tr>\n",
       "      <th>580032</th>\n",
       "      <td>2006</td>\n",
       "      <td>7.0</td>\n",
       "      <td>0.25</td>\n",
       "      <td>39.371930</td>\n",
       "      <td>-74.538310</td>\n",
       "      <td>14.0</td>\n",
       "      <td>ATLANTIC</td>\n",
       "    </tr>\n",
       "    <tr>\n",
       "      <th>901765</th>\n",
       "      <td>1994</td>\n",
       "      <td>2.0</td>\n",
       "      <td>0.10</td>\n",
       "      <td>43.939615</td>\n",
       "      <td>-89.584563</td>\n",
       "      <td>14.0</td>\n",
       "      <td>MARQUETTE</td>\n",
       "    </tr>\n",
       "    <tr>\n",
       "      <th>201202769</th>\n",
       "      <td>2011</td>\n",
       "      <td>3.0</td>\n",
       "      <td>1.00</td>\n",
       "      <td>35.102183</td>\n",
       "      <td>-87.451400</td>\n",
       "      <td>8.0</td>\n",
       "      <td>LAWRENCE</td>\n",
       "    </tr>\n",
       "    <tr>\n",
       "      <th>300243313</th>\n",
       "      <td>2015</td>\n",
       "      <td>5.0</td>\n",
       "      <td>1.00</td>\n",
       "      <td>38.530000</td>\n",
       "      <td>-98.540000</td>\n",
       "      <td>14.0</td>\n",
       "      <td>BARTON</td>\n",
       "    </tr>\n",
       "    <tr>\n",
       "      <th>771252</th>\n",
       "      <td>1994</td>\n",
       "      <td>7.0</td>\n",
       "      <td>30.00</td>\n",
       "      <td>31.478618</td>\n",
       "      <td>-90.326716</td>\n",
       "      <td>14.0</td>\n",
       "      <td>LINCOLN</td>\n",
       "    </tr>\n",
       "    <tr>\n",
       "      <th>...</th>\n",
       "      <td>...</td>\n",
       "      <td>...</td>\n",
       "      <td>...</td>\n",
       "      <td>...</td>\n",
       "      <td>...</td>\n",
       "      <td>...</td>\n",
       "      <td>...</td>\n",
       "    </tr>\n",
       "    <tr>\n",
       "      <th>1784482</th>\n",
       "      <td>2006</td>\n",
       "      <td>9.0</td>\n",
       "      <td>1.50</td>\n",
       "      <td>43.213840</td>\n",
       "      <td>-77.522492</td>\n",
       "      <td>14.0</td>\n",
       "      <td>MONROE</td>\n",
       "    </tr>\n",
       "    <tr>\n",
       "      <th>345023</th>\n",
       "      <td>2002</td>\n",
       "      <td>9.0</td>\n",
       "      <td>0.80</td>\n",
       "      <td>36.123000</td>\n",
       "      <td>-115.875900</td>\n",
       "      <td>1.0</td>\n",
       "      <td>NYE</td>\n",
       "    </tr>\n",
       "    <tr>\n",
       "      <th>445943</th>\n",
       "      <td>2005</td>\n",
       "      <td>5.0</td>\n",
       "      <td>2.00</td>\n",
       "      <td>27.713890</td>\n",
       "      <td>-82.306390</td>\n",
       "      <td>14.0</td>\n",
       "      <td>HILLSBOROUGH</td>\n",
       "    </tr>\n",
       "    <tr>\n",
       "      <th>1662225</th>\n",
       "      <td>2002</td>\n",
       "      <td>5.0</td>\n",
       "      <td>0.03</td>\n",
       "      <td>31.909700</td>\n",
       "      <td>-82.719800</td>\n",
       "      <td>8.0</td>\n",
       "      <td>TELFAIR</td>\n",
       "    </tr>\n",
       "    <tr>\n",
       "      <th>555837</th>\n",
       "      <td>2006</td>\n",
       "      <td>5.0</td>\n",
       "      <td>4.00</td>\n",
       "      <td>35.388450</td>\n",
       "      <td>-83.286860</td>\n",
       "      <td>14.0</td>\n",
       "      <td>JACKSON</td>\n",
       "    </tr>\n",
       "  </tbody>\n",
       "</table>\n",
       "<p>500 rows × 7 columns</p>\n",
       "</div>"
      ],
      "text/plain": [
       "           YEAR  CAUSE   AREA   LATITUDE   LONGITUDE  OWNER        COUNTY\n",
       "580032     2006    7.0   0.25  39.371930  -74.538310   14.0      ATLANTIC\n",
       "901765     1994    2.0   0.10  43.939615  -89.584563   14.0     MARQUETTE\n",
       "201202769  2011    3.0   1.00  35.102183  -87.451400    8.0      LAWRENCE\n",
       "300243313  2015    5.0   1.00  38.530000  -98.540000   14.0        BARTON\n",
       "771252     1994    7.0  30.00  31.478618  -90.326716   14.0       LINCOLN\n",
       "...         ...    ...    ...        ...         ...    ...           ...\n",
       "1784482    2006    9.0   1.50  43.213840  -77.522492   14.0        MONROE\n",
       "345023     2002    9.0   0.80  36.123000 -115.875900    1.0           NYE\n",
       "445943     2005    5.0   2.00  27.713890  -82.306390   14.0  HILLSBOROUGH\n",
       "1662225    2002    5.0   0.03  31.909700  -82.719800    8.0       TELFAIR\n",
       "555837     2006    5.0   4.00  35.388450  -83.286860   14.0       JACKSON\n",
       "\n",
       "[500 rows x 7 columns]"
      ]
     },
     "execution_count": 155,
     "metadata": {},
     "output_type": "execute_result"
    }
   ],
   "source": [
    "df.sample(500)"
   ]
  },
  {
   "cell_type": "code",
   "execution_count": 87,
   "id": "4a404a1b",
   "metadata": {},
   "outputs": [],
   "source": [
    "# Take user input, then clean and display county specific data\n",
    "def plotCountyBurnAreaPerYear():\n",
    "    countystr = str.upper(input(\"County name: \"))\n",
    "    county_df = df[df['COUNTY'] == countystr]\n",
    "    county_df.sort_values('YEAR')\n",
    "    county_df = county_df.groupby('YEAR').AREA.sum()\n",
    "    county_df.plot(x=\"YEAR\", y=\"AREA\", title=countystr + \" COUNTY BURN AREA\")"
   ]
  },
  {
   "cell_type": "code",
   "execution_count": 88,
   "id": "4e66f437",
   "metadata": {},
   "outputs": [
    {
     "name": "stdout",
     "output_type": "stream",
     "text": [
      "County name: Austin\n"
     ]
    },
    {
     "data": {
      "image/png": "[encoded data removed]",
      "text/plain": [
       "<Figure size 432x288 with 1 Axes>"
      ]
     },
     "metadata": {
      "needs_background": "light"
     },
     "output_type": "display_data"
    }
   ],
   "source": [
    "plotCounty()"
   ]
  },
  {
   "cell_type": "code",
   "execution_count": 189,
   "id": "de1d77b6",
   "metadata": {},
   "outputs": [],
   "source": [
    "df = df.sample(100000)"
   ]
  },
  {
   "cell_type": "code",
   "execution_count": 240,
   "id": "1d320e6f",
   "metadata": {},
   "outputs": [],
   "source": [
    "# Spliting the dataset into training set and test set\n",
    "from sklearn.model_selection import train_test_split\n",
    "x_train, x_test, y_train, y_test = train_test_split(df.drop(columns=['COUNTY','AREA','CAUSE','OWNER']), df[['AREA']], test_size= 0.2, random_state=4)"
   ]
  },
  {
   "cell_type": "code",
   "execution_count": 241,
   "id": "0b88c727",
   "metadata": {},
   "outputs": [
    {
     "data": {
      "text/html": [
       "<div>\n",
       "<style scoped>\n",
       "    .dataframe tbody tr th:only-of-type {\n",
       "        vertical-align: middle;\n",
       "    }\n",
       "\n",
       "    .dataframe tbody tr th {\n",
       "        vertical-align: top;\n",
       "    }\n",
       "\n",
       "    .dataframe thead th {\n",
       "        text-align: right;\n",
       "    }\n",
       "</style>\n",
       "<table border=\"1\" class=\"dataframe\">\n",
       "  <thead>\n",
       "    <tr style=\"text-align: right;\">\n",
       "      <th></th>\n",
       "      <th>YEAR</th>\n",
       "      <th>LATITUDE</th>\n",
       "      <th>LONGITUDE</th>\n",
       "    </tr>\n",
       "  </thead>\n",
       "  <tbody>\n",
       "    <tr>\n",
       "      <th>323554</th>\n",
       "      <td>2007</td>\n",
       "      <td>33.698031</td>\n",
       "      <td>-117.217047</td>\n",
       "    </tr>\n",
       "    <tr>\n",
       "      <th>854414</th>\n",
       "      <td>2001</td>\n",
       "      <td>40.602940</td>\n",
       "      <td>-111.366860</td>\n",
       "    </tr>\n",
       "    <tr>\n",
       "      <th>1406394</th>\n",
       "      <td>2006</td>\n",
       "      <td>34.396570</td>\n",
       "      <td>-86.171817</td>\n",
       "    </tr>\n",
       "    <tr>\n",
       "      <th>201159555</th>\n",
       "      <td>2011</td>\n",
       "      <td>33.316007</td>\n",
       "      <td>-84.547618</td>\n",
       "    </tr>\n",
       "    <tr>\n",
       "      <th>501974</th>\n",
       "      <td>2007</td>\n",
       "      <td>48.592810</td>\n",
       "      <td>-116.464400</td>\n",
       "    </tr>\n",
       "    <tr>\n",
       "      <th>...</th>\n",
       "      <td>...</td>\n",
       "      <td>...</td>\n",
       "      <td>...</td>\n",
       "    </tr>\n",
       "    <tr>\n",
       "      <th>201812946</th>\n",
       "      <td>2013</td>\n",
       "      <td>37.221500</td>\n",
       "      <td>-119.515267</td>\n",
       "    </tr>\n",
       "    <tr>\n",
       "      <th>300115672</th>\n",
       "      <td>2014</td>\n",
       "      <td>40.751100</td>\n",
       "      <td>-73.502700</td>\n",
       "    </tr>\n",
       "    <tr>\n",
       "      <th>300111447</th>\n",
       "      <td>2014</td>\n",
       "      <td>34.625330</td>\n",
       "      <td>-95.217670</td>\n",
       "    </tr>\n",
       "    <tr>\n",
       "      <th>201405739</th>\n",
       "      <td>2011</td>\n",
       "      <td>32.635183</td>\n",
       "      <td>-100.752203</td>\n",
       "    </tr>\n",
       "    <tr>\n",
       "      <th>498166</th>\n",
       "      <td>1994</td>\n",
       "      <td>47.143586</td>\n",
       "      <td>-116.261013</td>\n",
       "    </tr>\n",
       "  </tbody>\n",
       "</table>\n",
       "<p>20000 rows × 3 columns</p>\n",
       "</div>"
      ],
      "text/plain": [
       "           YEAR   LATITUDE   LONGITUDE\n",
       "323554     2007  33.698031 -117.217047\n",
       "854414     2001  40.602940 -111.366860\n",
       "1406394    2006  34.396570  -86.171817\n",
       "201159555  2011  33.316007  -84.547618\n",
       "501974     2007  48.592810 -116.464400\n",
       "...         ...        ...         ...\n",
       "201812946  2013  37.221500 -119.515267\n",
       "300115672  2014  40.751100  -73.502700\n",
       "300111447  2014  34.625330  -95.217670\n",
       "201405739  2011  32.635183 -100.752203\n",
       "498166     1994  47.143586 -116.261013\n",
       "\n",
       "[20000 rows x 3 columns]"
      ]
     },
     "execution_count": 241,
     "metadata": {},
     "output_type": "execute_result"
    }
   ],
   "source": [
    "x_test"
   ]
  },
  {
   "cell_type": "code",
   "execution_count": 254,
   "id": "f71d05cd",
   "metadata": {},
   "outputs": [],
   "source": [
    "regressor = skl.ensemble.RandomForestRegressor(n_estimators=200)"
   ]
  },
  {
   "cell_type": "code",
   "execution_count": 255,
   "id": "fbb8c25d",
   "metadata": {},
   "outputs": [
    {
     "data": {
      "text/plain": [
       "RandomForestRegressor(n_estimators=200)"
      ]
     },
     "execution_count": 255,
     "metadata": {},
     "output_type": "execute_result"
    }
   ],
   "source": [
    "regressor.fit(x_train,y_train.values.ravel())"
   ]
  },
  {
   "cell_type": "code",
   "execution_count": 256,
   "id": "f4638f45",
   "metadata": {},
   "outputs": [
    {
     "data": {
      "text/plain": [
       "0.8358282378056403"
      ]
     },
     "execution_count": 256,
     "metadata": {},
     "output_type": "execute_result"
    }
   ],
   "source": [
    "regressor.score(x_train, y_train)"
   ]
  },
  {
   "cell_type": "code",
   "execution_count": 257,
   "id": "da68ca87",
   "metadata": {},
   "outputs": [],
   "source": [
    "predict = regressor.predict(x_test)"
   ]
  },
  {
   "cell_type": "code",
   "execution_count": 258,
   "id": "fe230748",
   "metadata": {},
   "outputs": [
    {
     "data": {
      "text/plain": [
       "-0.038317246457210574"
      ]
     },
     "execution_count": 258,
     "metadata": {},
     "output_type": "execute_result"
    }
   ],
   "source": [
    "regressor.score(x_test, y_test)"
   ]
  },
  {
   "cell_type": "code",
   "execution_count": 259,
   "id": "084c9110",
   "metadata": {},
   "outputs": [
    {
     "data": {
      "text/plain": [
       "3419775.6887573935"
      ]
     },
     "execution_count": 259,
     "metadata": {},
     "output_type": "execute_result"
    }
   ],
   "source": [
    "skl.metrics.mean_squared_error(y_test, predict)"
   ]
  },
  {
   "cell_type": "code",
   "execution_count": null,
   "id": "e854bc74",
   "metadata": {},
   "outputs": [],
   "source": []
  }
 ],
 "metadata": {
  "kernelspec": {
   "display_name": "Python 3 (ipykernel)",
   "language": "python",
   "name": "python3"
  },
  "language_info": {
   "codemirror_mode": {
    "name": "ipython",
    "version": 3
   },
   "file_extension": ".py",
   "mimetype": "text/x-python",
   "name": "python",
   "nbconvert_exporter": "python",
   "pygments_lexer": "ipython3",
   "version": "3.9.12"
  }
 },
 "nbformat": 4,
 "nbformat_minor": 5
}
