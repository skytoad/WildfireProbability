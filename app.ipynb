{
 "cells": [
  {
   "cell_type": "code",
   "execution_count": 1,
   "id": "f2aea873",
   "metadata": {},
   "outputs": [],
   "source": [
    "import pandas as pd\n",
    "import numpy as np\n",
    "import matplotlib.pyplot as plt\n",
    "import geopandas as gp\n",
    "from sklearn import ensemble, model_selection \n",
    "%matplotlib inline"
   ]
  },
  {
   "cell_type": "code",
   "execution_count": 6,
   "id": "824431d5",
   "metadata": {},
   "outputs": [],
   "source": [
    "## Wildfire Prediction Using Machine Learning"
   ]
  },
  {
   "cell_type": "code",
   "execution_count": 7,
   "id": "da28fabc",
   "metadata": {},
   "outputs": [],
   "source": [
    "# A Python project created by Tyler Astle"
   ]
  },
  {
   "cell_type": "code",
   "execution_count": 3,
   "id": "b2d334b3",
   "metadata": {},
   "outputs": [],
   "source": [
    "df = pd.read_csv(\"data//wf_datatrimmed_8col.csv\", \n",
    "                 encoding=\"utf-8\", \n",
    "                 index_col=0, \n",
    "                 names=[\"YEAR\", \"CAUSE\", \"AREA\", \"LATITUDE\", \"LONGITUDE\", \"OWNER\", \"COUNTY\"],\n",
    "                 low_memory=False)"
   ]
  },
  {
   "cell_type": "code",
   "execution_count": 4,
   "id": "458b399a",
   "metadata": {},
   "outputs": [],
   "source": [
    "df['COUNTY'] = df['COUNTY'].str.upper()"
   ]
  },
  {
   "cell_type": "code",
   "execution_count": 5,
   "id": "5ee11d0d",
   "metadata": {},
   "outputs": [],
   "source": [
    "map = gp.read_file(\"data//cb_2018_us_state_5m.shp\")"
   ]
  },
  {
   "cell_type": "code",
   "execution_count": 7,
   "id": "651adff0",
   "metadata": {},
   "outputs": [
    {
     "data": {
      "text/plain": [
       "<AxesSubplot:>"
      ]
     },
     "execution_count": 7,
     "metadata": {},
     "output_type": "execute_result"
    },
    {
     "data": {
      "image/png": "[encoded data removed]",
      "text/plain": [
       "<Figure size 432x288 with 1 Axes>"
      ]
     },
     "metadata": {
      "needs_background": "light"
     },
     "output_type": "display_data"
    }
   ],
   "source": [
    "map.plot()"
   ]
  },
  {
   "cell_type": "code",
   "execution_count": 18,
   "id": "4a404a1b",
   "metadata": {},
   "outputs": [],
   "source": [
    "# Take user input, then clean data and display yearly burn area by county\n",
    "def plotCountyBurnAreaPerYear():\n",
    "    countystr = str.upper(input(\"County name: \"))\n",
    "    county_df = df[df['COUNTY'] == countystr]\n",
    "    county_df.sort_values('YEAR')\n",
    "    county_df = county_df.groupby('YEAR').AREA.sum()\n",
    "    county_df.plot(x=\"YEAR\", y=\"AREA\", title=countystr + \" COUNTY BURN AREA (ACRES)\")"
   ]
  },
  {
   "cell_type": "code",
   "execution_count": 23,
   "id": "4e66f437",
   "metadata": {},
   "outputs": [
    {
     "name": "stdout",
     "output_type": "stream",
     "text": [
      "County name: Santa Cruz\n"
     ]
    },
    {
     "data": {
      "image/png": "[encoded data removed]",
      "text/plain": [
       "<Figure size 432x288 with 1 Axes>"
      ]
     },
     "metadata": {
      "needs_background": "light"
     },
     "output_type": "display_data"
    }
   ],
   "source": [
    "plotCountyBurnAreaPerYear()"
   ]
  },
  {
   "cell_type": "code",
   "execution_count": 1,
   "id": "ee8102f2",
   "metadata": {},
   "outputs": [
    {
     "ename": "IndentationError",
     "evalue": "expected an indented block (3490340857.py, line 1)",
     "output_type": "error",
     "traceback": [
      "\u001b[1;36m  Input \u001b[1;32mIn [1]\u001b[1;36m\u001b[0m\n\u001b[1;33m    def plotTotalBurnAreaMap():\u001b[0m\n\u001b[1;37m                               ^\u001b[0m\n\u001b[1;31mIndentationError\u001b[0m\u001b[1;31m:\u001b[0m expected an indented block\n"
     ]
    }
   ],
   "source": [
    "def plotTotalBurnAreaMap():\n",
    "    "
   ]
  },
  {
   "cell_type": "code",
   "execution_count": 240,
   "id": "1d320e6f",
   "metadata": {},
   "outputs": [],
   "source": [
    "# Spliting the dataset into training set and test set\n",
    "from sklearn.model_selection import train_test_split\n",
    "x_train, x_test, y_train, y_test = train_test_split(df.drop(columns=['COUNTY','AREA','CAUSE','OWNER']), df[['AREA']], test_size= 0.2, random_state=4)"
   ]
  },
  {
   "cell_type": "code",
   "execution_count": 241,
   "id": "e5debbba",
   "metadata": {},
   "outputs": [
    {
     "data": {
      "text/html": [
       "<div>\n",
       "<style scoped>\n",
       "    .dataframe tbody tr th:only-of-type {\n",
       "        vertical-align: middle;\n",
       "    }\n",
       "\n",
       "    .dataframe tbody tr th {\n",
       "        vertical-align: top;\n",
       "    }\n",
       "\n",
       "    .dataframe thead th {\n",
       "        text-align: right;\n",
       "    }\n",
       "</style>\n",
       "<table border=\"1\" class=\"dataframe\">\n",
       "  <thead>\n",
       "    <tr style=\"text-align: right;\">\n",
       "      <th></th>\n",
       "      <th>YEAR</th>\n",
       "      <th>LATITUDE</th>\n",
       "      <th>LONGITUDE</th>\n",
       "    </tr>\n",
       "  </thead>\n",
       "  <tbody>\n",
       "    <tr>\n",
       "      <th>323554</th>\n",
       "      <td>2007</td>\n",
       "      <td>33.698031</td>\n",
       "      <td>-117.217047</td>\n",
       "    </tr>\n",
       "    <tr>\n",
       "      <th>854414</th>\n",
       "      <td>2001</td>\n",
       "      <td>40.602940</td>\n",
       "      <td>-111.366860</td>\n",
       "    </tr>\n",
       "    <tr>\n",
       "      <th>1406394</th>\n",
       "      <td>2006</td>\n",
       "      <td>34.396570</td>\n",
       "      <td>-86.171817</td>\n",
       "    </tr>\n",
       "    <tr>\n",
       "      <th>201159555</th>\n",
       "      <td>2011</td>\n",
       "      <td>33.316007</td>\n",
       "      <td>-84.547618</td>\n",
       "    </tr>\n",
       "    <tr>\n",
       "      <th>501974</th>\n",
       "      <td>2007</td>\n",
       "      <td>48.592810</td>\n",
       "      <td>-116.464400</td>\n",
       "    </tr>\n",
       "    <tr>\n",
       "      <th>...</th>\n",
       "      <td>...</td>\n",
       "      <td>...</td>\n",
       "      <td>...</td>\n",
       "    </tr>\n",
       "    <tr>\n",
       "      <th>201812946</th>\n",
       "      <td>2013</td>\n",
       "      <td>37.221500</td>\n",
       "      <td>-119.515267</td>\n",
       "    </tr>\n",
       "    <tr>\n",
       "      <th>300115672</th>\n",
       "      <td>2014</td>\n",
       "      <td>40.751100</td>\n",
       "      <td>-73.502700</td>\n",
       "    </tr>\n",
       "    <tr>\n",
       "      <th>300111447</th>\n",
       "      <td>2014</td>\n",
       "      <td>34.625330</td>\n",
       "      <td>-95.217670</td>\n",
       "    </tr>\n",
       "    <tr>\n",
       "      <th>201405739</th>\n",
       "      <td>2011</td>\n",
       "      <td>32.635183</td>\n",
       "      <td>-100.752203</td>\n",
       "    </tr>\n",
       "    <tr>\n",
       "      <th>498166</th>\n",
       "      <td>1994</td>\n",
       "      <td>47.143586</td>\n",
       "      <td>-116.261013</td>\n",
       "    </tr>\n",
       "  </tbody>\n",
       "</table>\n",
       "<p>20000 rows × 3 columns</p>\n",
       "</div>"
      ],
      "text/plain": [
       "           YEAR   LATITUDE   LONGITUDE\n",
       "323554     2007  33.698031 -117.217047\n",
       "854414     2001  40.602940 -111.366860\n",
       "1406394    2006  34.396570  -86.171817\n",
       "201159555  2011  33.316007  -84.547618\n",
       "501974     2007  48.592810 -116.464400\n",
       "...         ...        ...         ...\n",
       "201812946  2013  37.221500 -119.515267\n",
       "300115672  2014  40.751100  -73.502700\n",
       "300111447  2014  34.625330  -95.217670\n",
       "201405739  2011  32.635183 -100.752203\n",
       "498166     1994  47.143586 -116.261013\n",
       "\n",
       "[20000 rows x 3 columns]"
      ]
     },
     "execution_count": 241,
     "metadata": {},
     "output_type": "execute_result"
    }
   ],
   "source": [
    "x_test"
   ]
  },
  {
   "cell_type": "code",
   "execution_count": 254,
   "id": "f71d05cd",
   "metadata": {},
   "outputs": [],
   "source": [
    "regressor = skl.ensemble.RandomForestRegressor(n_estimators=200)"
   ]
  },
  {
   "cell_type": "code",
   "execution_count": 255,
   "id": "fbb8c25d",
   "metadata": {},
   "outputs": [
    {
     "data": {
      "text/plain": [
       "RandomForestRegressor(n_estimators=200)"
      ]
     },
     "execution_count": 255,
     "metadata": {},
     "output_type": "execute_result"
    }
   ],
   "source": [
    "regressor.fit(x_train,y_train.values.ravel())"
   ]
  },
  {
   "cell_type": "code",
   "execution_count": 256,
   "id": "a5842e2f",
   "metadata": {},
   "outputs": [
    {
     "data": {
      "text/plain": [
       "0.8358282378056403"
      ]
     },
     "execution_count": 256,
     "metadata": {},
     "output_type": "execute_result"
    }
   ],
   "source": [
    "regressor.score(x_train, y_train)"
   ]
  },
  {
   "cell_type": "code",
   "execution_count": 257,
   "id": "da68ca87",
   "metadata": {},
   "outputs": [],
   "source": [
    "predict = regressor.predict(x_test)"
   ]
  },
  {
   "cell_type": "code",
   "execution_count": 258,
   "id": "fe230748",
   "metadata": {},
   "outputs": [
    {
     "data": {
      "text/plain": [
       "-0.038317246457210574"
      ]
     },
     "execution_count": 258,
     "metadata": {},
     "output_type": "execute_result"
    }
   ],
   "source": [
    "regressor.score(x_test, y_test)"
   ]
  },
  {
   "cell_type": "code",
   "execution_count": 24,
   "id": "084c9110",
   "metadata": {},
   "outputs": [
    {
     "ename": "NameError",
     "evalue": "name 'skl' is not defined",
     "output_type": "error",
     "traceback": [
      "\u001b[1;31m---------------------------------------------------------------------------\u001b[0m",
      "\u001b[1;31mNameError\u001b[0m                                 Traceback (most recent call last)",
      "Input \u001b[1;32mIn [24]\u001b[0m, in \u001b[0;36m<cell line: 1>\u001b[1;34m()\u001b[0m\n\u001b[1;32m----> 1\u001b[0m \u001b[43mskl\u001b[49m\u001b[38;5;241m.\u001b[39mmetrics\u001b[38;5;241m.\u001b[39mmean_squared_error(y_test, predict)\n",
      "\u001b[1;31mNameError\u001b[0m: name 'skl' is not defined"
     ]
    }
   ],
   "source": [
    "skl.metrics.mean_squared_error(y_test, predict)"
   ]
  },
  {
   "cell_type": "code",
   "execution_count": null,
   "id": "f31f9618",
   "metadata": {},
   "outputs": [],
   "source": []
  }
 ],
 "metadata": {
  "kernelspec": {
   "display_name": "Python 3 (ipykernel)",
   "language": "python",
   "name": "python3"
  },
  "language_info": {
   "codemirror_mode": {
    "name": "ipython",
    "version": 3
   },
   "file_extension": ".py",
   "mimetype": "text/x-python",
   "name": "python",
   "nbconvert_exporter": "python",
   "pygments_lexer": "ipython3",
   "version": "3.9.12"
  }
 },
 "nbformat": 4,
 "nbformat_minor": 5
}
