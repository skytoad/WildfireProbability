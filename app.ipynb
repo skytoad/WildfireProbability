{
 "cells": [
  {
   "cell_type": "code",
   "execution_count": 1,
   "id": "f2aea873",
   "metadata": {},
   "outputs": [],
   "source": [
    "import pandas as pd\n",
    "import numpy as np\n",
    "import matplotlib.pyplot as plt\n",
    "%matplotlib inline"
   ]
  },
  {
   "cell_type": "code",
   "execution_count": 2,
   "id": "824431d5",
   "metadata": {},
   "outputs": [],
   "source": [
    "## Wildfire Prediction Using Machine Learning"
   ]
  },
  {
   "cell_type": "code",
   "execution_count": 3,
   "id": "da28fabc",
   "metadata": {},
   "outputs": [],
   "source": [
    "# A Python project created by Tyler Astle"
   ]
  },
  {
   "cell_type": "code",
   "execution_count": 4,
   "id": "b2d334b3",
   "metadata": {},
   "outputs": [],
   "source": [
    "df = pd.read_csv(\"data//wfdata_trimmed.csv\", encoding=\"utf-8\", index_col=0, names=[\"YEAR\",\"COUNTY\",\"AREA\"])"
   ]
  },
  {
   "cell_type": "code",
   "execution_count": 5,
   "id": "458b399a",
   "metadata": {},
   "outputs": [],
   "source": [
    "df['COUNTY'] = df['COUNTY'].str.upper()"
   ]
  },
  {
   "cell_type": "code",
   "execution_count": 6,
   "id": "94c8f245",
   "metadata": {},
   "outputs": [
    {
     "data": {
      "text/html": [
       "<div>\n",
       "<style scoped>\n",
       "    .dataframe tbody tr th:only-of-type {\n",
       "        vertical-align: middle;\n",
       "    }\n",
       "\n",
       "    .dataframe tbody tr th {\n",
       "        vertical-align: top;\n",
       "    }\n",
       "\n",
       "    .dataframe thead th {\n",
       "        text-align: right;\n",
       "    }\n",
       "</style>\n",
       "<table border=\"1\" class=\"dataframe\">\n",
       "  <thead>\n",
       "    <tr style=\"text-align: right;\">\n",
       "      <th></th>\n",
       "      <th>YEAR</th>\n",
       "      <th>COUNTY</th>\n",
       "      <th>AREA</th>\n",
       "    </tr>\n",
       "  </thead>\n",
       "  <tbody>\n",
       "    <tr>\n",
       "      <th>1</th>\n",
       "      <td>2005</td>\n",
       "      <td>63</td>\n",
       "      <td>0.10</td>\n",
       "    </tr>\n",
       "    <tr>\n",
       "      <th>2</th>\n",
       "      <td>2004</td>\n",
       "      <td>61</td>\n",
       "      <td>0.25</td>\n",
       "    </tr>\n",
       "    <tr>\n",
       "      <th>3</th>\n",
       "      <td>2004</td>\n",
       "      <td>17</td>\n",
       "      <td>0.10</td>\n",
       "    </tr>\n",
       "    <tr>\n",
       "      <th>4</th>\n",
       "      <td>2004</td>\n",
       "      <td>3</td>\n",
       "      <td>0.10</td>\n",
       "    </tr>\n",
       "    <tr>\n",
       "      <th>5</th>\n",
       "      <td>2004</td>\n",
       "      <td>3</td>\n",
       "      <td>0.10</td>\n",
       "    </tr>\n",
       "  </tbody>\n",
       "</table>\n",
       "</div>"
      ],
      "text/plain": [
       "   YEAR COUNTY  AREA\n",
       "1  2005     63  0.10\n",
       "2  2004     61  0.25\n",
       "3  2004     17  0.10\n",
       "4  2004      3  0.10\n",
       "5  2004      3  0.10"
      ]
     },
     "execution_count": 6,
     "metadata": {},
     "output_type": "execute_result"
    }
   ],
   "source": [
    "df.head()"
   ]
  },
  {
   "cell_type": "code",
   "execution_count": 7,
   "id": "74463fd5",
   "metadata": {},
   "outputs": [
    {
     "data": {
      "text/html": [
       "<div>\n",
       "<style scoped>\n",
       "    .dataframe tbody tr th:only-of-type {\n",
       "        vertical-align: middle;\n",
       "    }\n",
       "\n",
       "    .dataframe tbody tr th {\n",
       "        vertical-align: top;\n",
       "    }\n",
       "\n",
       "    .dataframe thead th {\n",
       "        text-align: right;\n",
       "    }\n",
       "</style>\n",
       "<table border=\"1\" class=\"dataframe\">\n",
       "  <thead>\n",
       "    <tr style=\"text-align: right;\">\n",
       "      <th></th>\n",
       "      <th>YEAR</th>\n",
       "      <th>COUNTY</th>\n",
       "      <th>AREA</th>\n",
       "    </tr>\n",
       "  </thead>\n",
       "  <tbody>\n",
       "    <tr>\n",
       "      <th>300308673</th>\n",
       "      <td>2015</td>\n",
       "      <td>SACRAMENTO</td>\n",
       "      <td>0.01</td>\n",
       "    </tr>\n",
       "    <tr>\n",
       "      <th>300308674</th>\n",
       "      <td>2015</td>\n",
       "      <td>CALAVERAS</td>\n",
       "      <td>0.10</td>\n",
       "    </tr>\n",
       "    <tr>\n",
       "      <th>300308675</th>\n",
       "      <td>2015</td>\n",
       "      <td>RIVERSIDE</td>\n",
       "      <td>0.10</td>\n",
       "    </tr>\n",
       "    <tr>\n",
       "      <th>300308676</th>\n",
       "      <td>2015</td>\n",
       "      <td>FRESNO</td>\n",
       "      <td>0.25</td>\n",
       "    </tr>\n",
       "    <tr>\n",
       "      <th>300308678</th>\n",
       "      <td>2015</td>\n",
       "      <td>MENDOCINO</td>\n",
       "      <td>0.01</td>\n",
       "    </tr>\n",
       "  </tbody>\n",
       "</table>\n",
       "</div>"
      ],
      "text/plain": [
       "           YEAR      COUNTY  AREA\n",
       "300308673  2015  SACRAMENTO  0.01\n",
       "300308674  2015   CALAVERAS  0.10\n",
       "300308675  2015   RIVERSIDE  0.10\n",
       "300308676  2015      FRESNO  0.25\n",
       "300308678  2015   MENDOCINO  0.01"
      ]
     },
     "execution_count": 7,
     "metadata": {},
     "output_type": "execute_result"
    }
   ],
   "source": [
    "df.tail()"
   ]
  },
  {
   "cell_type": "code",
   "execution_count": 8,
   "id": "4e66f437",
   "metadata": {},
   "outputs": [
    {
     "name": "stdout",
     "output_type": "stream",
     "text": [
      "County name: lOs AnGeLeS\n"
     ]
    }
   ],
   "source": [
    "countystr = str.upper(input(\"County name: \"))"
   ]
  },
  {
   "cell_type": "code",
   "execution_count": 10,
   "id": "daff2354",
   "metadata": {},
   "outputs": [],
   "source": [
    "county_df = df[df['COUNTY'] == countystr]"
   ]
  },
  {
   "cell_type": "code",
   "execution_count": 11,
   "id": "ab94149c",
   "metadata": {},
   "outputs": [
    {
     "data": {
      "text/html": [
       "<div>\n",
       "<style scoped>\n",
       "    .dataframe tbody tr th:only-of-type {\n",
       "        vertical-align: middle;\n",
       "    }\n",
       "\n",
       "    .dataframe tbody tr th {\n",
       "        vertical-align: top;\n",
       "    }\n",
       "\n",
       "    .dataframe thead th {\n",
       "        text-align: right;\n",
       "    }\n",
       "</style>\n",
       "<table border=\"1\" class=\"dataframe\">\n",
       "  <thead>\n",
       "    <tr style=\"text-align: right;\">\n",
       "      <th></th>\n",
       "      <th>YEAR</th>\n",
       "      <th>COUNTY</th>\n",
       "      <th>AREA</th>\n",
       "    </tr>\n",
       "  </thead>\n",
       "  <tbody>\n",
       "    <tr>\n",
       "      <th>220999</th>\n",
       "      <td>1999</td>\n",
       "      <td>LOS ANGELES</td>\n",
       "      <td>3600.0</td>\n",
       "    </tr>\n",
       "    <tr>\n",
       "      <th>320675</th>\n",
       "      <td>2000</td>\n",
       "      <td>LOS ANGELES</td>\n",
       "      <td>1.0</td>\n",
       "    </tr>\n",
       "    <tr>\n",
       "      <th>320676</th>\n",
       "      <td>2000</td>\n",
       "      <td>LOS ANGELES</td>\n",
       "      <td>1.0</td>\n",
       "    </tr>\n",
       "    <tr>\n",
       "      <th>320691</th>\n",
       "      <td>2000</td>\n",
       "      <td>LOS ANGELES</td>\n",
       "      <td>0.1</td>\n",
       "    </tr>\n",
       "    <tr>\n",
       "      <th>320705</th>\n",
       "      <td>2000</td>\n",
       "      <td>LOS ANGELES</td>\n",
       "      <td>1.0</td>\n",
       "    </tr>\n",
       "  </tbody>\n",
       "</table>\n",
       "</div>"
      ],
      "text/plain": [
       "        YEAR       COUNTY    AREA\n",
       "220999  1999  LOS ANGELES  3600.0\n",
       "320675  2000  LOS ANGELES     1.0\n",
       "320676  2000  LOS ANGELES     1.0\n",
       "320691  2000  LOS ANGELES     0.1\n",
       "320705  2000  LOS ANGELES     1.0"
      ]
     },
     "execution_count": 11,
     "metadata": {},
     "output_type": "execute_result"
    }
   ],
   "source": [
    "county_df.head()"
   ]
  },
  {
   "cell_type": "code",
   "execution_count": 12,
   "id": "3031f5f9",
   "metadata": {},
   "outputs": [
    {
     "data": {
      "text/html": [
       "<div>\n",
       "<style scoped>\n",
       "    .dataframe tbody tr th:only-of-type {\n",
       "        vertical-align: middle;\n",
       "    }\n",
       "\n",
       "    .dataframe tbody tr th {\n",
       "        vertical-align: top;\n",
       "    }\n",
       "\n",
       "    .dataframe thead th {\n",
       "        text-align: right;\n",
       "    }\n",
       "</style>\n",
       "<table border=\"1\" class=\"dataframe\">\n",
       "  <thead>\n",
       "    <tr style=\"text-align: right;\">\n",
       "      <th></th>\n",
       "      <th>YEAR</th>\n",
       "      <th>COUNTY</th>\n",
       "      <th>AREA</th>\n",
       "    </tr>\n",
       "  </thead>\n",
       "  <tbody>\n",
       "    <tr>\n",
       "      <th>300308027</th>\n",
       "      <td>2015</td>\n",
       "      <td>LOS ANGELES</td>\n",
       "      <td>0.12</td>\n",
       "    </tr>\n",
       "    <tr>\n",
       "      <th>300308105</th>\n",
       "      <td>2015</td>\n",
       "      <td>LOS ANGELES</td>\n",
       "      <td>0.12</td>\n",
       "    </tr>\n",
       "    <tr>\n",
       "      <th>300308471</th>\n",
       "      <td>2015</td>\n",
       "      <td>LOS ANGELES</td>\n",
       "      <td>0.01</td>\n",
       "    </tr>\n",
       "    <tr>\n",
       "      <th>300308543</th>\n",
       "      <td>2015</td>\n",
       "      <td>LOS ANGELES</td>\n",
       "      <td>0.12</td>\n",
       "    </tr>\n",
       "    <tr>\n",
       "      <th>300308606</th>\n",
       "      <td>2015</td>\n",
       "      <td>LOS ANGELES</td>\n",
       "      <td>0.12</td>\n",
       "    </tr>\n",
       "  </tbody>\n",
       "</table>\n",
       "</div>"
      ],
      "text/plain": [
       "           YEAR       COUNTY  AREA\n",
       "300308027  2015  LOS ANGELES  0.12\n",
       "300308105  2015  LOS ANGELES  0.12\n",
       "300308471  2015  LOS ANGELES  0.01\n",
       "300308543  2015  LOS ANGELES  0.12\n",
       "300308606  2015  LOS ANGELES  0.12"
      ]
     },
     "execution_count": 12,
     "metadata": {},
     "output_type": "execute_result"
    }
   ],
   "source": [
    "county_df.tail()"
   ]
  },
  {
   "cell_type": "code",
   "execution_count": 15,
   "id": "896ba894",
   "metadata": {},
   "outputs": [
    {
     "data": {
      "text/html": [
       "<div>\n",
       "<style scoped>\n",
       "    .dataframe tbody tr th:only-of-type {\n",
       "        vertical-align: middle;\n",
       "    }\n",
       "\n",
       "    .dataframe tbody tr th {\n",
       "        vertical-align: top;\n",
       "    }\n",
       "\n",
       "    .dataframe thead th {\n",
       "        text-align: right;\n",
       "    }\n",
       "</style>\n",
       "<table border=\"1\" class=\"dataframe\">\n",
       "  <thead>\n",
       "    <tr style=\"text-align: right;\">\n",
       "      <th></th>\n",
       "      <th>YEAR</th>\n",
       "      <th>COUNTY</th>\n",
       "      <th>AREA</th>\n",
       "    </tr>\n",
       "  </thead>\n",
       "  <tbody>\n",
       "    <tr>\n",
       "      <th>220999</th>\n",
       "      <td>1999</td>\n",
       "      <td>LOS ANGELES</td>\n",
       "      <td>3600.00</td>\n",
       "    </tr>\n",
       "    <tr>\n",
       "      <th>320714</th>\n",
       "      <td>2000</td>\n",
       "      <td>LOS ANGELES</td>\n",
       "      <td>0.10</td>\n",
       "    </tr>\n",
       "    <tr>\n",
       "      <th>320713</th>\n",
       "      <td>2000</td>\n",
       "      <td>LOS ANGELES</td>\n",
       "      <td>5.00</td>\n",
       "    </tr>\n",
       "    <tr>\n",
       "      <th>320711</th>\n",
       "      <td>2000</td>\n",
       "      <td>LOS ANGELES</td>\n",
       "      <td>1.00</td>\n",
       "    </tr>\n",
       "    <tr>\n",
       "      <th>320715</th>\n",
       "      <td>2000</td>\n",
       "      <td>LOS ANGELES</td>\n",
       "      <td>1.00</td>\n",
       "    </tr>\n",
       "    <tr>\n",
       "      <th>...</th>\n",
       "      <td>...</td>\n",
       "      <td>...</td>\n",
       "      <td>...</td>\n",
       "    </tr>\n",
       "    <tr>\n",
       "      <th>300306507</th>\n",
       "      <td>2015</td>\n",
       "      <td>LOS ANGELES</td>\n",
       "      <td>0.12</td>\n",
       "    </tr>\n",
       "    <tr>\n",
       "      <th>300208820</th>\n",
       "      <td>2015</td>\n",
       "      <td>LOS ANGELES</td>\n",
       "      <td>0.10</td>\n",
       "    </tr>\n",
       "    <tr>\n",
       "      <th>300308543</th>\n",
       "      <td>2015</td>\n",
       "      <td>LOS ANGELES</td>\n",
       "      <td>0.12</td>\n",
       "    </tr>\n",
       "    <tr>\n",
       "      <th>300307306</th>\n",
       "      <td>2015</td>\n",
       "      <td>LOS ANGELES</td>\n",
       "      <td>0.12</td>\n",
       "    </tr>\n",
       "    <tr>\n",
       "      <th>300308606</th>\n",
       "      <td>2015</td>\n",
       "      <td>LOS ANGELES</td>\n",
       "      <td>0.12</td>\n",
       "    </tr>\n",
       "  </tbody>\n",
       "</table>\n",
       "<p>1173 rows × 3 columns</p>\n",
       "</div>"
      ],
      "text/plain": [
       "           YEAR       COUNTY     AREA\n",
       "220999     1999  LOS ANGELES  3600.00\n",
       "320714     2000  LOS ANGELES     0.10\n",
       "320713     2000  LOS ANGELES     5.00\n",
       "320711     2000  LOS ANGELES     1.00\n",
       "320715     2000  LOS ANGELES     1.00\n",
       "...         ...          ...      ...\n",
       "300306507  2015  LOS ANGELES     0.12\n",
       "300208820  2015  LOS ANGELES     0.10\n",
       "300308543  2015  LOS ANGELES     0.12\n",
       "300307306  2015  LOS ANGELES     0.12\n",
       "300308606  2015  LOS ANGELES     0.12\n",
       "\n",
       "[1173 rows x 3 columns]"
      ]
     },
     "execution_count": 15,
     "metadata": {},
     "output_type": "execute_result"
    }
   ],
   "source": [
    "county_df.sort_values('YEAR')"
   ]
  },
  {
   "cell_type": "code",
   "execution_count": 22,
   "id": "71ddd80c",
   "metadata": {},
   "outputs": [],
   "source": [
    "county_df = county_df.groupby('YEAR').AREA.sum()"
   ]
  },
  {
   "cell_type": "code",
   "execution_count": 23,
   "id": "90f86d2c",
   "metadata": {},
   "outputs": [
    {
     "data": {
      "text/plain": [
       "<AxesSubplot:title={'center':'LOS ANGELES BURN AREA'}, xlabel='YEAR'>"
      ]
     },
     "execution_count": 23,
     "metadata": {},
     "output_type": "execute_result"
    },
    {
     "data": {
      "image/png": "[encoded data removed]",
      "text/plain": [
       "<Figure size 432x288 with 1 Axes>"
      ]
     },
     "metadata": {
      "needs_background": "light"
     },
     "output_type": "display_data"
    }
   ],
   "source": [
    "county_df.plot(x=\"YEAR\", y=\"AREA\", title=countystr + \" BURN AREA\")"
   ]
  },
  {
   "cell_type": "code",
   "execution_count": 24,
   "id": "f4a7f982",
   "metadata": {},
   "outputs": [
    {
     "data": {
      "text/plain": [
       "YEAR\n",
       "1999     3600.0\n",
       "2000       10.2\n",
       "2001       11.8\n",
       "2002    21044.7\n",
       "2003     8941.6\n",
       "Name: AREA, dtype: float64"
      ]
     },
     "execution_count": 24,
     "metadata": {},
     "output_type": "execute_result"
    }
   ],
   "source": [
    "county_df.head()"
   ]
  },
  {
   "cell_type": "code",
   "execution_count": 25,
   "id": "e6d17474",
   "metadata": {},
   "outputs": [
    {
     "data": {
      "text/plain": [
       "YEAR\n",
       "1999     3600.00\n",
       "2000       10.20\n",
       "2001       11.80\n",
       "2002    21044.70\n",
       "2003     8941.60\n",
       "2005     2552.10\n",
       "2006     5958.00\n",
       "2007     9209.50\n",
       "2008    14703.00\n",
       "2009      420.00\n",
       "2010    13929.00\n",
       "2011     1499.73\n",
       "2012       70.11\n",
       "2013     6379.50\n",
       "2014     2695.64\n",
       "2015        1.68\n",
       "Name: AREA, dtype: float64"
      ]
     },
     "execution_count": 25,
     "metadata": {},
     "output_type": "execute_result"
    }
   ],
   "source": [
    "county_df"
   ]
  },
  {
   "cell_type": "code",
   "execution_count": null,
   "id": "da3ecd9c",
   "metadata": {},
   "outputs": [],
   "source": []
  }
 ],
 "metadata": {
  "kernelspec": {
   "display_name": "Python 3 (ipykernel)",
   "language": "python",
   "name": "python3"
  },
  "language_info": {
   "codemirror_mode": {
    "name": "ipython",
    "version": 3
   },
   "file_extension": ".py",
   "mimetype": "text/x-python",
   "name": "python",
   "nbconvert_exporter": "python",
   "pygments_lexer": "ipython3",
   "version": "3.9.12"
  }
 },
 "nbformat": 4,
 "nbformat_minor": 5
}
