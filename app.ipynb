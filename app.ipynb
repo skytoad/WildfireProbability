{
 "cells": [
  {
   "cell_type": "markdown",
   "id": "ce20e138",
   "metadata": {},
   "source": [
    "# Wildfire Prediction Using Machine Learning"
   ]
  },
  {
   "cell_type": "markdown",
   "id": "24309bbe",
   "metadata": {},
   "source": [
    "### A Python project created by Tyler Astle"
   ]
  },
  {
   "cell_type": "code",
   "execution_count": 1,
   "id": "1a03a34f",
   "metadata": {},
   "outputs": [],
   "source": [
    "import pandas as pd\n",
    "import numpy as np\n",
    "import matplotlib.pyplot as plt\n",
    "import geopandas as gp\n",
    "from sklearn import ensemble, model_selection \n",
    "%matplotlib inline"
   ]
  },
  {
   "cell_type": "code",
   "execution_count": 2,
   "id": "b2d334b3",
   "metadata": {},
   "outputs": [],
   "source": [
    "df = pd.read_csv(\"wf_datatrimmed_8col.csv\", \n",
    "                 encoding=\"utf-8\", \n",
    "                 index_col=0, \n",
    "                 names=[\"YEAR\", \"CAUSE\", \"AREA\", \"LATITUDE\", \"LONGITUDE\", \"OWNER\", \"COUNTY\"],\n",
    "                 low_memory=False)"
   ]
  },
  {
   "cell_type": "code",
   "execution_count": 3,
   "id": "458b399a",
   "metadata": {},
   "outputs": [],
   "source": [
    "df['COUNTY'] = df['COUNTY'].str.upper()"
   ]
  },
  {
   "cell_type": "code",
   "execution_count": 4,
   "id": "40468c5d",
   "metadata": {},
   "outputs": [
    {
     "data": {
      "text/html": [
       "<div>\n",
       "<style scoped>\n",
       "    .dataframe tbody tr th:only-of-type {\n",
       "        vertical-align: middle;\n",
       "    }\n",
       "\n",
       "    .dataframe tbody tr th {\n",
       "        vertical-align: top;\n",
       "    }\n",
       "\n",
       "    .dataframe thead th {\n",
       "        text-align: right;\n",
       "    }\n",
       "</style>\n",
       "<table border=\"1\" class=\"dataframe\">\n",
       "  <thead>\n",
       "    <tr style=\"text-align: right;\">\n",
       "      <th></th>\n",
       "      <th>YEAR</th>\n",
       "      <th>CAUSE</th>\n",
       "      <th>AREA</th>\n",
       "      <th>LATITUDE</th>\n",
       "      <th>LONGITUDE</th>\n",
       "      <th>OWNER</th>\n",
       "      <th>COUNTY</th>\n",
       "    </tr>\n",
       "  </thead>\n",
       "  <tbody>\n",
       "    <tr>\n",
       "      <th>1</th>\n",
       "      <td>2005</td>\n",
       "      <td>9.0</td>\n",
       "      <td>0.10</td>\n",
       "      <td>40.036944</td>\n",
       "      <td>-121.005833</td>\n",
       "      <td>5.0</td>\n",
       "      <td>63</td>\n",
       "    </tr>\n",
       "    <tr>\n",
       "      <th>2</th>\n",
       "      <td>2004</td>\n",
       "      <td>1.0</td>\n",
       "      <td>0.25</td>\n",
       "      <td>38.933056</td>\n",
       "      <td>-120.404444</td>\n",
       "      <td>5.0</td>\n",
       "      <td>61</td>\n",
       "    </tr>\n",
       "    <tr>\n",
       "      <th>3</th>\n",
       "      <td>2004</td>\n",
       "      <td>5.0</td>\n",
       "      <td>0.10</td>\n",
       "      <td>38.984167</td>\n",
       "      <td>-120.735556</td>\n",
       "      <td>13.0</td>\n",
       "      <td>17</td>\n",
       "    </tr>\n",
       "    <tr>\n",
       "      <th>4</th>\n",
       "      <td>2004</td>\n",
       "      <td>1.0</td>\n",
       "      <td>0.10</td>\n",
       "      <td>38.559167</td>\n",
       "      <td>-119.913333</td>\n",
       "      <td>5.0</td>\n",
       "      <td>3</td>\n",
       "    </tr>\n",
       "    <tr>\n",
       "      <th>5</th>\n",
       "      <td>2004</td>\n",
       "      <td>1.0</td>\n",
       "      <td>0.10</td>\n",
       "      <td>38.559167</td>\n",
       "      <td>-119.933056</td>\n",
       "      <td>5.0</td>\n",
       "      <td>3</td>\n",
       "    </tr>\n",
       "  </tbody>\n",
       "</table>\n",
       "</div>"
      ],
      "text/plain": [
       "   YEAR  CAUSE  AREA   LATITUDE   LONGITUDE  OWNER COUNTY\n",
       "1  2005    9.0  0.10  40.036944 -121.005833    5.0     63\n",
       "2  2004    1.0  0.25  38.933056 -120.404444    5.0     61\n",
       "3  2004    5.0  0.10  38.984167 -120.735556   13.0     17\n",
       "4  2004    1.0  0.10  38.559167 -119.913333    5.0      3\n",
       "5  2004    1.0  0.10  38.559167 -119.933056    5.0      3"
      ]
     },
     "execution_count": 4,
     "metadata": {},
     "output_type": "execute_result"
    }
   ],
   "source": [
    "df.head()"
   ]
  },
  {
   "cell_type": "markdown",
   "id": "6985f2b0",
   "metadata": {},
   "source": [
    "## Descriptive Methods"
   ]
  },
  {
   "cell_type": "code",
   "execution_count": 11,
   "id": "4a404a1b",
   "metadata": {},
   "outputs": [],
   "source": [
    "# Take user input, then clean data and display yearly burn area by county\n",
    "def plotCountyBurnAreaPerYear():\n",
    "    countystr = str.upper(input(\"County name: \"))\n",
    "    county_df = df[df['COUNTY'] == countystr]\n",
    "    county_df.sort_values('YEAR')\n",
    "    county_df = county_df.groupby('YEAR').AREA.sum()\n",
    "    county_df.plot(x=\"YEAR\", y=\"AREA\", title=countystr + \" COUNTY BURN AREA (ACRES)\")"
   ]
  },
  {
   "cell_type": "code",
   "execution_count": 12,
   "id": "4e66f437",
   "metadata": {},
   "outputs": [
    {
     "name": "stdout",
     "output_type": "stream",
     "text": [
      "County name: Alameda\n",
      "County name: \n",
      "County name: \n",
      "County name: \n",
      "County name: \n",
      "County name: \n"
     ]
    },
    {
     "ename": "KeyboardInterrupt",
     "evalue": "Interrupted by user",
     "output_type": "error",
     "traceback": [
      "\u001b[1;31m---------------------------------------------------------------------------\u001b[0m",
      "\u001b[1;31mKeyboardInterrupt\u001b[0m                         Traceback (most recent call last)",
      "Input \u001b[1;32mIn [12]\u001b[0m, in \u001b[0;36m<cell line: 1>\u001b[1;34m()\u001b[0m\n\u001b[1;32m----> 1\u001b[0m \u001b[43mplotCountyBurnAreaPerYear\u001b[49m\u001b[43m(\u001b[49m\u001b[43m)\u001b[49m\n",
      "Input \u001b[1;32mIn [11]\u001b[0m, in \u001b[0;36mplotCountyBurnAreaPerYear\u001b[1;34m()\u001b[0m\n\u001b[0;32m      6\u001b[0m county_df \u001b[38;5;241m=\u001b[39m county_df\u001b[38;5;241m.\u001b[39mgroupby(\u001b[38;5;124m'\u001b[39m\u001b[38;5;124mYEAR\u001b[39m\u001b[38;5;124m'\u001b[39m)\u001b[38;5;241m.\u001b[39mAREA\u001b[38;5;241m.\u001b[39msum()\n\u001b[0;32m      7\u001b[0m county_df\u001b[38;5;241m.\u001b[39mplot(x\u001b[38;5;241m=\u001b[39m\u001b[38;5;124m\"\u001b[39m\u001b[38;5;124mYEAR\u001b[39m\u001b[38;5;124m\"\u001b[39m, y\u001b[38;5;241m=\u001b[39m\u001b[38;5;124m\"\u001b[39m\u001b[38;5;124mAREA\u001b[39m\u001b[38;5;124m\"\u001b[39m, title\u001b[38;5;241m=\u001b[39mcountystr \u001b[38;5;241m+\u001b[39m \u001b[38;5;124m\"\u001b[39m\u001b[38;5;124m COUNTY BURN AREA (ACRES)\u001b[39m\u001b[38;5;124m\"\u001b[39m)\n\u001b[1;32m----> 9\u001b[0m \u001b[43mplotCountyBurnAreaPerYear\u001b[49m\u001b[43m(\u001b[49m\u001b[43m)\u001b[49m\n",
      "Input \u001b[1;32mIn [11]\u001b[0m, in \u001b[0;36mplotCountyBurnAreaPerYear\u001b[1;34m()\u001b[0m\n\u001b[0;32m      6\u001b[0m county_df \u001b[38;5;241m=\u001b[39m county_df\u001b[38;5;241m.\u001b[39mgroupby(\u001b[38;5;124m'\u001b[39m\u001b[38;5;124mYEAR\u001b[39m\u001b[38;5;124m'\u001b[39m)\u001b[38;5;241m.\u001b[39mAREA\u001b[38;5;241m.\u001b[39msum()\n\u001b[0;32m      7\u001b[0m county_df\u001b[38;5;241m.\u001b[39mplot(x\u001b[38;5;241m=\u001b[39m\u001b[38;5;124m\"\u001b[39m\u001b[38;5;124mYEAR\u001b[39m\u001b[38;5;124m\"\u001b[39m, y\u001b[38;5;241m=\u001b[39m\u001b[38;5;124m\"\u001b[39m\u001b[38;5;124mAREA\u001b[39m\u001b[38;5;124m\"\u001b[39m, title\u001b[38;5;241m=\u001b[39mcountystr \u001b[38;5;241m+\u001b[39m \u001b[38;5;124m\"\u001b[39m\u001b[38;5;124m COUNTY BURN AREA (ACRES)\u001b[39m\u001b[38;5;124m\"\u001b[39m)\n\u001b[1;32m----> 9\u001b[0m \u001b[43mplotCountyBurnAreaPerYear\u001b[49m\u001b[43m(\u001b[49m\u001b[43m)\u001b[49m\n",
      "    \u001b[1;31m[... skipping similar frames: plotCountyBurnAreaPerYear at line 9 (3 times)]\u001b[0m\n",
      "Input \u001b[1;32mIn [11]\u001b[0m, in \u001b[0;36mplotCountyBurnAreaPerYear\u001b[1;34m()\u001b[0m\n\u001b[0;32m      6\u001b[0m county_df \u001b[38;5;241m=\u001b[39m county_df\u001b[38;5;241m.\u001b[39mgroupby(\u001b[38;5;124m'\u001b[39m\u001b[38;5;124mYEAR\u001b[39m\u001b[38;5;124m'\u001b[39m)\u001b[38;5;241m.\u001b[39mAREA\u001b[38;5;241m.\u001b[39msum()\n\u001b[0;32m      7\u001b[0m county_df\u001b[38;5;241m.\u001b[39mplot(x\u001b[38;5;241m=\u001b[39m\u001b[38;5;124m\"\u001b[39m\u001b[38;5;124mYEAR\u001b[39m\u001b[38;5;124m\"\u001b[39m, y\u001b[38;5;241m=\u001b[39m\u001b[38;5;124m\"\u001b[39m\u001b[38;5;124mAREA\u001b[39m\u001b[38;5;124m\"\u001b[39m, title\u001b[38;5;241m=\u001b[39mcountystr \u001b[38;5;241m+\u001b[39m \u001b[38;5;124m\"\u001b[39m\u001b[38;5;124m COUNTY BURN AREA (ACRES)\u001b[39m\u001b[38;5;124m\"\u001b[39m)\n\u001b[1;32m----> 9\u001b[0m \u001b[43mplotCountyBurnAreaPerYear\u001b[49m\u001b[43m(\u001b[49m\u001b[43m)\u001b[49m\n",
      "Input \u001b[1;32mIn [11]\u001b[0m, in \u001b[0;36mplotCountyBurnAreaPerYear\u001b[1;34m()\u001b[0m\n\u001b[0;32m      2\u001b[0m \u001b[38;5;28;01mdef\u001b[39;00m \u001b[38;5;21mplotCountyBurnAreaPerYear\u001b[39m():\n\u001b[1;32m----> 3\u001b[0m     countystr \u001b[38;5;241m=\u001b[39m \u001b[38;5;28mstr\u001b[39m\u001b[38;5;241m.\u001b[39mupper(\u001b[38;5;28;43minput\u001b[39;49m\u001b[43m(\u001b[49m\u001b[38;5;124;43m\"\u001b[39;49m\u001b[38;5;124;43mCounty name: \u001b[39;49m\u001b[38;5;124;43m\"\u001b[39;49m\u001b[43m)\u001b[49m)\n\u001b[0;32m      4\u001b[0m     county_df \u001b[38;5;241m=\u001b[39m df[df[\u001b[38;5;124m'\u001b[39m\u001b[38;5;124mCOUNTY\u001b[39m\u001b[38;5;124m'\u001b[39m] \u001b[38;5;241m==\u001b[39m countystr]\n\u001b[0;32m      5\u001b[0m     county_df\u001b[38;5;241m.\u001b[39msort_values(\u001b[38;5;124m'\u001b[39m\u001b[38;5;124mYEAR\u001b[39m\u001b[38;5;124m'\u001b[39m)\n",
      "File \u001b[1;32m~\\OneDrive\\Documents\\WGU\\Capstone\\WildfirePredictionProject\\env\\lib\\site-packages\\ipykernel\\kernelbase.py:1075\u001b[0m, in \u001b[0;36mKernel.raw_input\u001b[1;34m(self, prompt)\u001b[0m\n\u001b[0;32m   1071\u001b[0m \u001b[38;5;28;01mif\u001b[39;00m \u001b[38;5;129;01mnot\u001b[39;00m \u001b[38;5;28mself\u001b[39m\u001b[38;5;241m.\u001b[39m_allow_stdin:\n\u001b[0;32m   1072\u001b[0m     \u001b[38;5;28;01mraise\u001b[39;00m StdinNotImplementedError(\n\u001b[0;32m   1073\u001b[0m         \u001b[38;5;124m\"\u001b[39m\u001b[38;5;124mraw_input was called, but this frontend does not support input requests.\u001b[39m\u001b[38;5;124m\"\u001b[39m\n\u001b[0;32m   1074\u001b[0m     )\n\u001b[1;32m-> 1075\u001b[0m \u001b[38;5;28;01mreturn\u001b[39;00m \u001b[38;5;28;43mself\u001b[39;49m\u001b[38;5;241;43m.\u001b[39;49m\u001b[43m_input_request\u001b[49m\u001b[43m(\u001b[49m\n\u001b[0;32m   1076\u001b[0m \u001b[43m    \u001b[49m\u001b[38;5;28;43mstr\u001b[39;49m\u001b[43m(\u001b[49m\u001b[43mprompt\u001b[49m\u001b[43m)\u001b[49m\u001b[43m,\u001b[49m\n\u001b[0;32m   1077\u001b[0m \u001b[43m    \u001b[49m\u001b[38;5;28;43mself\u001b[39;49m\u001b[38;5;241;43m.\u001b[39;49m\u001b[43m_parent_ident\u001b[49m\u001b[43m[\u001b[49m\u001b[38;5;124;43m\"\u001b[39;49m\u001b[38;5;124;43mshell\u001b[39;49m\u001b[38;5;124;43m\"\u001b[39;49m\u001b[43m]\u001b[49m\u001b[43m,\u001b[49m\n\u001b[0;32m   1078\u001b[0m \u001b[43m    \u001b[49m\u001b[38;5;28;43mself\u001b[39;49m\u001b[38;5;241;43m.\u001b[39;49m\u001b[43mget_parent\u001b[49m\u001b[43m(\u001b[49m\u001b[38;5;124;43m\"\u001b[39;49m\u001b[38;5;124;43mshell\u001b[39;49m\u001b[38;5;124;43m\"\u001b[39;49m\u001b[43m)\u001b[49m\u001b[43m,\u001b[49m\n\u001b[0;32m   1079\u001b[0m \u001b[43m    \u001b[49m\u001b[43mpassword\u001b[49m\u001b[38;5;241;43m=\u001b[39;49m\u001b[38;5;28;43;01mFalse\u001b[39;49;00m\u001b[43m,\u001b[49m\n\u001b[0;32m   1080\u001b[0m \u001b[43m\u001b[49m\u001b[43m)\u001b[49m\n",
      "File \u001b[1;32m~\\OneDrive\\Documents\\WGU\\Capstone\\WildfirePredictionProject\\env\\lib\\site-packages\\ipykernel\\kernelbase.py:1120\u001b[0m, in \u001b[0;36mKernel._input_request\u001b[1;34m(self, prompt, ident, parent, password)\u001b[0m\n\u001b[0;32m   1117\u001b[0m             \u001b[38;5;28;01mbreak\u001b[39;00m\n\u001b[0;32m   1118\u001b[0m \u001b[38;5;28;01mexcept\u001b[39;00m \u001b[38;5;167;01mKeyboardInterrupt\u001b[39;00m:\n\u001b[0;32m   1119\u001b[0m     \u001b[38;5;66;03m# re-raise KeyboardInterrupt, to truncate traceback\u001b[39;00m\n\u001b[1;32m-> 1120\u001b[0m     \u001b[38;5;28;01mraise\u001b[39;00m \u001b[38;5;167;01mKeyboardInterrupt\u001b[39;00m(\u001b[38;5;124m\"\u001b[39m\u001b[38;5;124mInterrupted by user\u001b[39m\u001b[38;5;124m\"\u001b[39m) \u001b[38;5;28;01mfrom\u001b[39;00m \u001b[38;5;28mNone\u001b[39m\n\u001b[0;32m   1121\u001b[0m \u001b[38;5;28;01mexcept\u001b[39;00m \u001b[38;5;167;01mException\u001b[39;00m:\n\u001b[0;32m   1122\u001b[0m     \u001b[38;5;28mself\u001b[39m\u001b[38;5;241m.\u001b[39mlog\u001b[38;5;241m.\u001b[39mwarning(\u001b[38;5;124m\"\u001b[39m\u001b[38;5;124mInvalid Message:\u001b[39m\u001b[38;5;124m\"\u001b[39m, exc_info\u001b[38;5;241m=\u001b[39m\u001b[38;5;28;01mTrue\u001b[39;00m)\n",
      "\u001b[1;31mKeyboardInterrupt\u001b[0m: Interrupted by user"
     ]
    },
    {
     "data": {
      "image/png": "[encoded data removed]",
      "text/plain": [
       "<Figure size 432x288 with 1 Axes>"
      ]
     },
     "metadata": {
      "needs_background": "light"
     },
     "output_type": "display_data"
    }
   ],
   "source": [
    "plotCountyBurnAreaPerYear()"
   ]
  },
  {
   "cell_type": "code",
   "execution_count": null,
   "id": "1bcd361c",
   "metadata": {},
   "outputs": [],
   "source": [
    "def plotFireIncidentMap(fires):\n",
    "    fireGeoData = fires.drop(columns=['COUNTY','AREA', 'YEAR','CAUSE','OWNER'])\n",
    "    \n",
    "    BBox = (fires['LONGITUDE'].min(), fires['LONGITUDE'].max(),      \n",
    "                    fires['LATITUDE'].min(), fires['LATITUDE'].max())\n",
    "                   \n",
    "    map = plt.imread('data//USmap.png')\n",
    "    \n",
    "    fig, ax = plt.subplots(figsize = (7, 7))\n",
    "    \n",
    "    ax.scatter(fires['LONGITUDE'], fires['LATITUDE']**0.98-1, zorder=1, alpha=0.2, c='r', s=0.5)\n",
    "    \n",
    "    ax.set_title('WILDFIRE INCIDENTS IN THE UNITED STATES')\n",
    "    ax.imshow(map, zorder=0, extent=BBox, aspect=1.3)\n",
    "    ax.set_xlim(BBox[0],BBox[1])\n",
    "    ax.set_ylim(BBox[2],BBox[3])"
   ]
  },
  {
   "cell_type": "code",
   "execution_count": null,
   "id": "db5ee32c",
   "metadata": {},
   "outputs": [],
   "source": [
    "plotFireIncidentMap(df)"
   ]
  },
  {
   "cell_type": "code",
   "execution_count": null,
   "id": "690812fe",
   "metadata": {},
   "outputs": [],
   "source": [
    "def plotTotalFiresBarChart(fires):\n",
    "    fig, ax = plt.subplots(figsize = (6,6))\n",
    "    \n",
    "    fires = fires.sort_values('YEAR')\n",
    "    fires['YEAR'].value_counts(sort=False).plot(kind='bar',title='TOTAL WILDFIRE INCIDENTS BY YEAR', color='red')\n",
    "    # fires = fires.drop(columns=['AREA', 'LATITUDE', 'LONGITUDE', 'CAUSE', 'OWNER', 'COUNTY'])"
   ]
  },
  {
   "cell_type": "code",
   "execution_count": null,
   "id": "f2d619d2",
   "metadata": {
    "scrolled": true
   },
   "outputs": [],
   "source": [
    "plotTotalFiresBarChart(df)"
   ]
  },
  {
   "cell_type": "markdown",
   "id": "e6cc9fa7",
   "metadata": {},
   "source": [
    "## Predictive Methods"
   ]
  },
  {
   "cell_type": "code",
   "execution_count": null,
   "id": "1d320e6f",
   "metadata": {},
   "outputs": [],
   "source": [
    "# Spliting the dataset into training set and test set\n",
    "from sklearn.model_selection import train_test_split\n",
    "x_train, x_test, y_train, y_test = train_test_split(df.drop(columns=['COUNTY','AREA','CAUSE','OWNER']), df[['AREA']], test_size= 0.2, random_state=4)"
   ]
  },
  {
   "cell_type": "code",
   "execution_count": null,
   "id": "e5debbba",
   "metadata": {},
   "outputs": [],
   "source": [
    "x_test"
   ]
  },
  {
   "cell_type": "code",
   "execution_count": null,
   "id": "f71d05cd",
   "metadata": {},
   "outputs": [],
   "source": [
    "regressor = ensemble.RandomForestRegressor(n_estimators=5)"
   ]
  },
  {
   "cell_type": "code",
   "execution_count": null,
   "id": "fbb8c25d",
   "metadata": {},
   "outputs": [],
   "source": [
    "regressor.fit(x_train,y_train.values.ravel())"
   ]
  },
  {
   "cell_type": "code",
   "execution_count": null,
   "id": "7dfc4469",
   "metadata": {},
   "outputs": [],
   "source": [
    "def predictYearlyBurnAreaByCoordinates():\n",
    "    predYear = int(input(\"Year: \"))\n",
    "    longi = float(input(\"Longitude: \"))\n",
    "    lati = float(input(\"Latitude: \"))\n",
    "    \n",
    "    predEntry = pd.DataFrame([[predYear, longi, lati]], columns=['YEAR', 'LATITUDE', 'LONGITUDE'])\n",
    "    pred = regressor.predict(predEntry)\n",
    "    \n",
    "    print(\"Estimated burn area: \" + str(pred))"
   ]
  },
  {
   "cell_type": "code",
   "execution_count": null,
   "id": "88a19898",
   "metadata": {},
   "outputs": [],
   "source": [
    "predictYearlyBurnAreaByCoordinates()"
   ]
  },
  {
   "cell_type": "code",
   "execution_count": null,
   "id": "fe230748",
   "metadata": {},
   "outputs": [],
   "source": [
    "regressor.score(x_test, y_test)"
   ]
  }
 ],
 "metadata": {
  "kernelspec": {
   "display_name": "Python 3 (ipykernel)",
   "language": "python",
   "name": "python3"
  },
  "language_info": {
   "codemirror_mode": {
    "name": "ipython",
    "version": 3
   },
   "file_extension": ".py",
   "mimetype": "text/x-python",
   "name": "python",
   "nbconvert_exporter": "python",
   "pygments_lexer": "ipython3",
   "version": "3.9.12"
  }
 },
 "nbformat": 4,
 "nbformat_minor": 5
}
